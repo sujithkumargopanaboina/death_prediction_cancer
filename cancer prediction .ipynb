{
 "cells": [
  {
   "cell_type": "code",
   "execution_count": 1,
   "metadata": {},
   "outputs": [],
   "source": [
    "import pandas as pd\n"
   ]
  },
  {
   "cell_type": "code",
   "execution_count": 2,
   "metadata": {},
   "outputs": [],
   "source": [
    "df=pd.read_csv(\"Downloads/cancer death prediction/dataset/train.csv\")"
   ]
  },
  {
   "cell_type": "code",
   "execution_count": 3,
   "metadata": {},
   "outputs": [
    {
     "data": {
      "text/html": [
       "<div>\n",
       "<style scoped>\n",
       "    .dataframe tbody tr th:only-of-type {\n",
       "        vertical-align: middle;\n",
       "    }\n",
       "\n",
       "    .dataframe tbody tr th {\n",
       "        vertical-align: top;\n",
       "    }\n",
       "\n",
       "    .dataframe thead th {\n",
       "        text-align: right;\n",
       "    }\n",
       "</style>\n",
       "<table border=\"1\" class=\"dataframe\">\n",
       "  <thead>\n",
       "    <tr style=\"text-align: right;\">\n",
       "      <th></th>\n",
       "      <th>patient_id</th>\n",
       "      <th>tumor_cell_count</th>\n",
       "      <th>gender</th>\n",
       "      <th>age_group</th>\n",
       "      <th>race</th>\n",
       "      <th>year_of_diagnosis</th>\n",
       "      <th>morphology_code</th>\n",
       "      <th>year_of_death</th>\n",
       "      <th>smoke_units</th>\n",
       "      <th>area_code</th>\n",
       "      <th>...</th>\n",
       "      <th>symptom58</th>\n",
       "      <th>symptom59</th>\n",
       "      <th>symptom60</th>\n",
       "      <th>symptom61</th>\n",
       "      <th>symptom62</th>\n",
       "      <th>symptom63</th>\n",
       "      <th>symptom64</th>\n",
       "      <th>symptom65</th>\n",
       "      <th>symptom66</th>\n",
       "      <th>death_due_to_cancer</th>\n",
       "    </tr>\n",
       "  </thead>\n",
       "  <tbody>\n",
       "    <tr>\n",
       "      <th>0</th>\n",
       "      <td>TCBA-B8-0x204</td>\n",
       "      <td>7</td>\n",
       "      <td>Male</td>\n",
       "      <td>60-64</td>\n",
       "      <td>NaN</td>\n",
       "      <td>2010</td>\n",
       "      <td>81403</td>\n",
       "      <td>2016.0</td>\n",
       "      <td>34</td>\n",
       "      <td>2</td>\n",
       "      <td>...</td>\n",
       "      <td>0.0</td>\n",
       "      <td>0.0</td>\n",
       "      <td>0.0</td>\n",
       "      <td>0.0</td>\n",
       "      <td>0.0</td>\n",
       "      <td>0.0</td>\n",
       "      <td>0.0</td>\n",
       "      <td>0.0</td>\n",
       "      <td>0.0</td>\n",
       "      <td>1</td>\n",
       "    </tr>\n",
       "    <tr>\n",
       "      <th>1</th>\n",
       "      <td>TCBA-B8-0x1063</td>\n",
       "      <td>1</td>\n",
       "      <td>Male</td>\n",
       "      <td>85-89</td>\n",
       "      <td>White</td>\n",
       "      <td>2012</td>\n",
       "      <td>80463</td>\n",
       "      <td>2016.0</td>\n",
       "      <td>4</td>\n",
       "      <td>7</td>\n",
       "      <td>...</td>\n",
       "      <td>0.0</td>\n",
       "      <td>0.0</td>\n",
       "      <td>0.0</td>\n",
       "      <td>0.0</td>\n",
       "      <td>0.0</td>\n",
       "      <td>0.0</td>\n",
       "      <td>0.0</td>\n",
       "      <td>0.0</td>\n",
       "      <td>0.0</td>\n",
       "      <td>1</td>\n",
       "    </tr>\n",
       "    <tr>\n",
       "      <th>2</th>\n",
       "      <td>TCBA-B8-0xb7d</td>\n",
       "      <td>1</td>\n",
       "      <td>Female</td>\n",
       "      <td>70-74</td>\n",
       "      <td>White</td>\n",
       "      <td>2013</td>\n",
       "      <td>80103</td>\n",
       "      <td>2018.0</td>\n",
       "      <td>20</td>\n",
       "      <td>1</td>\n",
       "      <td>...</td>\n",
       "      <td>0.0</td>\n",
       "      <td>0.0</td>\n",
       "      <td>0.0</td>\n",
       "      <td>0.0</td>\n",
       "      <td>0.0</td>\n",
       "      <td>0.0</td>\n",
       "      <td>0.0</td>\n",
       "      <td>0.0</td>\n",
       "      <td>0.0</td>\n",
       "      <td>1</td>\n",
       "    </tr>\n",
       "    <tr>\n",
       "      <th>3</th>\n",
       "      <td>TCBA-B8-0xfa7</td>\n",
       "      <td>104</td>\n",
       "      <td>Female</td>\n",
       "      <td>65-69</td>\n",
       "      <td>White</td>\n",
       "      <td>2013</td>\n",
       "      <td>80463</td>\n",
       "      <td>2018.0</td>\n",
       "      <td>20</td>\n",
       "      <td>5</td>\n",
       "      <td>...</td>\n",
       "      <td>0.0</td>\n",
       "      <td>0.0</td>\n",
       "      <td>0.0</td>\n",
       "      <td>0.0</td>\n",
       "      <td>0.0</td>\n",
       "      <td>0.0</td>\n",
       "      <td>0.0</td>\n",
       "      <td>0.0</td>\n",
       "      <td>0.0</td>\n",
       "      <td>1</td>\n",
       "    </tr>\n",
       "    <tr>\n",
       "      <th>4</th>\n",
       "      <td>TCBA-B8-0xdc</td>\n",
       "      <td>21</td>\n",
       "      <td>Male</td>\n",
       "      <td>50-54</td>\n",
       "      <td>White</td>\n",
       "      <td>2010</td>\n",
       "      <td>80463</td>\n",
       "      <td>2016.0</td>\n",
       "      <td>20</td>\n",
       "      <td>5</td>\n",
       "      <td>...</td>\n",
       "      <td>0.0</td>\n",
       "      <td>0.0</td>\n",
       "      <td>0.0</td>\n",
       "      <td>0.0</td>\n",
       "      <td>0.0</td>\n",
       "      <td>0.0</td>\n",
       "      <td>0.0</td>\n",
       "      <td>0.0</td>\n",
       "      <td>0.0</td>\n",
       "      <td>1</td>\n",
       "    </tr>\n",
       "    <tr>\n",
       "      <th>...</th>\n",
       "      <td>...</td>\n",
       "      <td>...</td>\n",
       "      <td>...</td>\n",
       "      <td>...</td>\n",
       "      <td>...</td>\n",
       "      <td>...</td>\n",
       "      <td>...</td>\n",
       "      <td>...</td>\n",
       "      <td>...</td>\n",
       "      <td>...</td>\n",
       "      <td>...</td>\n",
       "      <td>...</td>\n",
       "      <td>...</td>\n",
       "      <td>...</td>\n",
       "      <td>...</td>\n",
       "      <td>...</td>\n",
       "      <td>...</td>\n",
       "      <td>...</td>\n",
       "      <td>...</td>\n",
       "      <td>...</td>\n",
       "      <td>...</td>\n",
       "    </tr>\n",
       "    <tr>\n",
       "      <th>2947</th>\n",
       "      <td>TCBA-B8-0xb4f</td>\n",
       "      <td>1</td>\n",
       "      <td>Female</td>\n",
       "      <td>80-84</td>\n",
       "      <td>White</td>\n",
       "      <td>2013</td>\n",
       "      <td>80003</td>\n",
       "      <td>2019.0</td>\n",
       "      <td>8</td>\n",
       "      <td>7</td>\n",
       "      <td>...</td>\n",
       "      <td>0.0</td>\n",
       "      <td>0.0</td>\n",
       "      <td>1.0</td>\n",
       "      <td>0.0</td>\n",
       "      <td>0.0</td>\n",
       "      <td>0.0</td>\n",
       "      <td>0.0</td>\n",
       "      <td>0.0</td>\n",
       "      <td>0.0</td>\n",
       "      <td>1</td>\n",
       "    </tr>\n",
       "    <tr>\n",
       "      <th>2948</th>\n",
       "      <td>TCBA-B8-0xacb</td>\n",
       "      <td>1</td>\n",
       "      <td>Female</td>\n",
       "      <td>NaN</td>\n",
       "      <td>White</td>\n",
       "      <td>2009</td>\n",
       "      <td>82463</td>\n",
       "      <td>NaN</td>\n",
       "      <td>4</td>\n",
       "      <td>8</td>\n",
       "      <td>...</td>\n",
       "      <td>0.0</td>\n",
       "      <td>0.0</td>\n",
       "      <td>0.0</td>\n",
       "      <td>0.0</td>\n",
       "      <td>0.0</td>\n",
       "      <td>0.0</td>\n",
       "      <td>0.0</td>\n",
       "      <td>0.0</td>\n",
       "      <td>0.0</td>\n",
       "      <td>0</td>\n",
       "    </tr>\n",
       "    <tr>\n",
       "      <th>2949</th>\n",
       "      <td>TCBA-B8-0x389</td>\n",
       "      <td>1</td>\n",
       "      <td>Male</td>\n",
       "      <td>75-79</td>\n",
       "      <td>White</td>\n",
       "      <td>2011</td>\n",
       "      <td>88003</td>\n",
       "      <td>2016.0</td>\n",
       "      <td>20</td>\n",
       "      <td>1</td>\n",
       "      <td>...</td>\n",
       "      <td>0.0</td>\n",
       "      <td>0.0</td>\n",
       "      <td>0.0</td>\n",
       "      <td>0.0</td>\n",
       "      <td>0.0</td>\n",
       "      <td>0.0</td>\n",
       "      <td>0.0</td>\n",
       "      <td>0.0</td>\n",
       "      <td>0.0</td>\n",
       "      <td>0</td>\n",
       "    </tr>\n",
       "    <tr>\n",
       "      <th>2950</th>\n",
       "      <td>TCBA-B8-0xf8c</td>\n",
       "      <td>1</td>\n",
       "      <td>Female</td>\n",
       "      <td>65-69</td>\n",
       "      <td>White</td>\n",
       "      <td>2009</td>\n",
       "      <td>80463</td>\n",
       "      <td>2016.0</td>\n",
       "      <td>20</td>\n",
       "      <td>3</td>\n",
       "      <td>...</td>\n",
       "      <td>0.0</td>\n",
       "      <td>0.0</td>\n",
       "      <td>0.0</td>\n",
       "      <td>0.0</td>\n",
       "      <td>0.0</td>\n",
       "      <td>0.0</td>\n",
       "      <td>0.0</td>\n",
       "      <td>0.0</td>\n",
       "      <td>0.0</td>\n",
       "      <td>1</td>\n",
       "    </tr>\n",
       "    <tr>\n",
       "      <th>2951</th>\n",
       "      <td>TCBA-B8-0xeb</td>\n",
       "      <td>1</td>\n",
       "      <td>Male</td>\n",
       "      <td>70-74</td>\n",
       "      <td>White</td>\n",
       "      <td>2012</td>\n",
       "      <td>80103</td>\n",
       "      <td>2017.0</td>\n",
       "      <td>15</td>\n",
       "      <td>3</td>\n",
       "      <td>...</td>\n",
       "      <td>0.0</td>\n",
       "      <td>1.0</td>\n",
       "      <td>0.0</td>\n",
       "      <td>0.0</td>\n",
       "      <td>0.0</td>\n",
       "      <td>0.0</td>\n",
       "      <td>0.0</td>\n",
       "      <td>0.0</td>\n",
       "      <td>0.0</td>\n",
       "      <td>1</td>\n",
       "    </tr>\n",
       "  </tbody>\n",
       "</table>\n",
       "<p>2952 rows × 70 columns</p>\n",
       "</div>"
      ],
      "text/plain": [
       "          patient_id  tumor_cell_count  gender age_group   race  \\\n",
       "0      TCBA-B8-0x204                 7    Male     60-64    NaN   \n",
       "1     TCBA-B8-0x1063                 1    Male     85-89  White   \n",
       "2      TCBA-B8-0xb7d                 1  Female     70-74  White   \n",
       "3      TCBA-B8-0xfa7               104  Female     65-69  White   \n",
       "4       TCBA-B8-0xdc                21    Male     50-54  White   \n",
       "...              ...               ...     ...       ...    ...   \n",
       "2947   TCBA-B8-0xb4f                 1  Female     80-84  White   \n",
       "2948   TCBA-B8-0xacb                 1  Female       NaN  White   \n",
       "2949   TCBA-B8-0x389                 1    Male     75-79  White   \n",
       "2950   TCBA-B8-0xf8c                 1  Female     65-69  White   \n",
       "2951    TCBA-B8-0xeb                 1    Male     70-74  White   \n",
       "\n",
       "      year_of_diagnosis  morphology_code  year_of_death  smoke_units  \\\n",
       "0                  2010            81403         2016.0           34   \n",
       "1                  2012            80463         2016.0            4   \n",
       "2                  2013            80103         2018.0           20   \n",
       "3                  2013            80463         2018.0           20   \n",
       "4                  2010            80463         2016.0           20   \n",
       "...                 ...              ...            ...          ...   \n",
       "2947               2013            80003         2019.0            8   \n",
       "2948               2009            82463            NaN            4   \n",
       "2949               2011            88003         2016.0           20   \n",
       "2950               2009            80463         2016.0           20   \n",
       "2951               2012            80103         2017.0           15   \n",
       "\n",
       "      area_code  ...  symptom58 symptom59  symptom60  symptom61  symptom62  \\\n",
       "0             2  ...        0.0       0.0        0.0        0.0        0.0   \n",
       "1             7  ...        0.0       0.0        0.0        0.0        0.0   \n",
       "2             1  ...        0.0       0.0        0.0        0.0        0.0   \n",
       "3             5  ...        0.0       0.0        0.0        0.0        0.0   \n",
       "4             5  ...        0.0       0.0        0.0        0.0        0.0   \n",
       "...         ...  ...        ...       ...        ...        ...        ...   \n",
       "2947          7  ...        0.0       0.0        1.0        0.0        0.0   \n",
       "2948          8  ...        0.0       0.0        0.0        0.0        0.0   \n",
       "2949          1  ...        0.0       0.0        0.0        0.0        0.0   \n",
       "2950          3  ...        0.0       0.0        0.0        0.0        0.0   \n",
       "2951          3  ...        0.0       1.0        0.0        0.0        0.0   \n",
       "\n",
       "      symptom63  symptom64  symptom65  symptom66  death_due_to_cancer  \n",
       "0           0.0        0.0        0.0        0.0                    1  \n",
       "1           0.0        0.0        0.0        0.0                    1  \n",
       "2           0.0        0.0        0.0        0.0                    1  \n",
       "3           0.0        0.0        0.0        0.0                    1  \n",
       "4           0.0        0.0        0.0        0.0                    1  \n",
       "...         ...        ...        ...        ...                  ...  \n",
       "2947        0.0        0.0        0.0        0.0                    1  \n",
       "2948        0.0        0.0        0.0        0.0                    0  \n",
       "2949        0.0        0.0        0.0        0.0                    0  \n",
       "2950        0.0        0.0        0.0        0.0                    1  \n",
       "2951        0.0        0.0        0.0        0.0                    1  \n",
       "\n",
       "[2952 rows x 70 columns]"
      ]
     },
     "execution_count": 3,
     "metadata": {},
     "output_type": "execute_result"
    }
   ],
   "source": [
    "df"
   ]
  },
  {
   "cell_type": "code",
   "execution_count": 4,
   "metadata": {},
   "outputs": [
    {
     "data": {
      "text/plain": [
       "Index(['patient_id', 'tumor_cell_count', 'gender', 'age_group', 'race',\n",
       "       'year_of_diagnosis', 'morphology_code', 'year_of_death', 'smoke_units',\n",
       "       'area_code', 'alcohol_consume_units', 'symptoms', 'symptom1',\n",
       "       'symptom2', 'symptom3', 'symptom4', 'symptom5', 'symptom6', 'symptom7',\n",
       "       'symptom8', 'symptom9', 'symptom10', 'symptom11', 'symptom12',\n",
       "       'symptom13', 'symptom14', 'symptom15', 'symptom16', 'symptom17',\n",
       "       'symptom18', 'symptom19', 'symptom20', 'symptom21', 'symptom22',\n",
       "       'symptom23', 'symptom24', 'symptom25', 'symptom26', 'symptom27',\n",
       "       'symptom28', 'symptom29', 'symptom30', 'symptom31', 'symptom32',\n",
       "       'symptom33', 'symptom34', 'symptom35', 'symptom36', 'symptom37',\n",
       "       'symptom38', 'symptom39', 'symptom40', 'symptom50', 'symptom51',\n",
       "       'symptom52', 'symptom53', 'symptom54', 'symptom55', 'symptom56',\n",
       "       'symptom57', 'symptom58', 'symptom59', 'symptom60', 'symptom61',\n",
       "       'symptom62', 'symptom63', 'symptom64', 'symptom65', 'symptom66',\n",
       "       'death_due_to_cancer'],\n",
       "      dtype='object')"
      ]
     },
     "execution_count": 4,
     "metadata": {},
     "output_type": "execute_result"
    }
   ],
   "source": [
    "df.columns"
   ]
  },
  {
   "cell_type": "code",
   "execution_count": 5,
   "metadata": {},
   "outputs": [],
   "source": [
    "df=df.dropna()"
   ]
  },
  {
   "cell_type": "code",
   "execution_count": 6,
   "metadata": {},
   "outputs": [
    {
     "name": "stdout",
     "output_type": "stream",
     "text": [
      "<class 'pandas.core.frame.DataFrame'>\n",
      "Int64Index: 2271 entries, 1 to 2951\n",
      "Data columns (total 70 columns):\n",
      " #   Column                 Non-Null Count  Dtype  \n",
      "---  ------                 --------------  -----  \n",
      " 0   patient_id             2271 non-null   object \n",
      " 1   tumor_cell_count       2271 non-null   int64  \n",
      " 2   gender                 2271 non-null   object \n",
      " 3   age_group              2271 non-null   object \n",
      " 4   race                   2271 non-null   object \n",
      " 5   year_of_diagnosis      2271 non-null   int64  \n",
      " 6   morphology_code        2271 non-null   int64  \n",
      " 7   year_of_death          2271 non-null   float64\n",
      " 8   smoke_units            2271 non-null   int64  \n",
      " 9   area_code              2271 non-null   int64  \n",
      " 10  alcohol_consume_units  2271 non-null   int64  \n",
      " 11  symptoms               2271 non-null   object \n",
      " 12  symptom1               2271 non-null   float64\n",
      " 13  symptom2               2271 non-null   float64\n",
      " 14  symptom3               2271 non-null   float64\n",
      " 15  symptom4               2271 non-null   float64\n",
      " 16  symptom5               2271 non-null   float64\n",
      " 17  symptom6               2271 non-null   float64\n",
      " 18  symptom7               2271 non-null   float64\n",
      " 19  symptom8               2271 non-null   float64\n",
      " 20  symptom9               2271 non-null   float64\n",
      " 21  symptom10              2271 non-null   float64\n",
      " 22  symptom11              2271 non-null   float64\n",
      " 23  symptom12              2271 non-null   float64\n",
      " 24  symptom13              2271 non-null   float64\n",
      " 25  symptom14              2271 non-null   float64\n",
      " 26  symptom15              2271 non-null   float64\n",
      " 27  symptom16              2271 non-null   float64\n",
      " 28  symptom17              2271 non-null   float64\n",
      " 29  symptom18              2271 non-null   float64\n",
      " 30  symptom19              2271 non-null   float64\n",
      " 31  symptom20              2271 non-null   float64\n",
      " 32  symptom21              2271 non-null   float64\n",
      " 33  symptom22              2271 non-null   float64\n",
      " 34  symptom23              2271 non-null   float64\n",
      " 35  symptom24              2271 non-null   float64\n",
      " 36  symptom25              2271 non-null   float64\n",
      " 37  symptom26              2271 non-null   float64\n",
      " 38  symptom27              2271 non-null   float64\n",
      " 39  symptom28              2271 non-null   float64\n",
      " 40  symptom29              2271 non-null   float64\n",
      " 41  symptom30              2271 non-null   float64\n",
      " 42  symptom31              2271 non-null   float64\n",
      " 43  symptom32              2271 non-null   float64\n",
      " 44  symptom33              2271 non-null   float64\n",
      " 45  symptom34              2271 non-null   float64\n",
      " 46  symptom35              2271 non-null   float64\n",
      " 47  symptom36              2271 non-null   float64\n",
      " 48  symptom37              2271 non-null   float64\n",
      " 49  symptom38              2271 non-null   float64\n",
      " 50  symptom39              2271 non-null   float64\n",
      " 51  symptom40              2271 non-null   float64\n",
      " 52  symptom50              2271 non-null   float64\n",
      " 53  symptom51              2271 non-null   float64\n",
      " 54  symptom52              2271 non-null   float64\n",
      " 55  symptom53              2271 non-null   float64\n",
      " 56  symptom54              2271 non-null   float64\n",
      " 57  symptom55              2271 non-null   float64\n",
      " 58  symptom56              2271 non-null   float64\n",
      " 59  symptom57              2271 non-null   float64\n",
      " 60  symptom58              2271 non-null   float64\n",
      " 61  symptom59              2271 non-null   float64\n",
      " 62  symptom60              2271 non-null   float64\n",
      " 63  symptom61              2271 non-null   float64\n",
      " 64  symptom62              2271 non-null   float64\n",
      " 65  symptom63              2271 non-null   float64\n",
      " 66  symptom64              2271 non-null   float64\n",
      " 67  symptom65              2271 non-null   float64\n",
      " 68  symptom66              2271 non-null   float64\n",
      " 69  death_due_to_cancer    2271 non-null   int64  \n",
      "dtypes: float64(58), int64(7), object(5)\n",
      "memory usage: 1.2+ MB\n"
     ]
    }
   ],
   "source": [
    "df.info()"
   ]
  },
  {
   "cell_type": "code",
   "execution_count": 7,
   "metadata": {},
   "outputs": [
    {
     "name": "stderr",
     "output_type": "stream",
     "text": [
      "C:\\Users\\SUJITH\\anaconda3\\lib\\site-packages\\pandas\\core\\frame.py:4308: SettingWithCopyWarning: \n",
      "A value is trying to be set on a copy of a slice from a DataFrame\n",
      "\n",
      "See the caveats in the documentation: https://pandas.pydata.org/pandas-docs/stable/user_guide/indexing.html#returning-a-view-versus-a-copy\n",
      "  return super().drop(\n"
     ]
    }
   ],
   "source": [
    "df.drop(\"patient_id\",axis=1,inplace=True)"
   ]
  },
  {
   "cell_type": "code",
   "execution_count": 8,
   "metadata": {},
   "outputs": [
    {
     "name": "stderr",
     "output_type": "stream",
     "text": [
      "<ipython-input-8-417270ea6971>:1: SettingWithCopyWarning: \n",
      "A value is trying to be set on a copy of a slice from a DataFrame.\n",
      "Try using .loc[row_indexer,col_indexer] = value instead\n",
      "\n",
      "See the caveats in the documentation: https://pandas.pydata.org/pandas-docs/stable/user_guide/indexing.html#returning-a-view-versus-a-copy\n",
      "  df['gender']=df['gender'].map({'Male':1,'Female':0})\n"
     ]
    }
   ],
   "source": [
    "df['gender']=df['gender'].map({'Male':1,'Female':0})"
   ]
  },
  {
   "cell_type": "code",
   "execution_count": 9,
   "metadata": {},
   "outputs": [
    {
     "name": "stderr",
     "output_type": "stream",
     "text": [
      "<ipython-input-9-6569e45877bd>:1: SettingWithCopyWarning: \n",
      "A value is trying to be set on a copy of a slice from a DataFrame.\n",
      "Try using .loc[row_indexer,col_indexer] = value instead\n",
      "\n",
      "See the caveats in the documentation: https://pandas.pydata.org/pandas-docs/stable/user_guide/indexing.html#returning-a-view-versus-a-copy\n",
      "  df['race']=df['race'].map({'White':0,'Asian':1,'Black':2,'Mixed':3,'OtherEth':4,'Chinese':5})\n"
     ]
    }
   ],
   "source": [
    "df['race']=df['race'].map({'White':0,'Asian':1,'Black':2,'Mixed':3,'OtherEth':4,'Chinese':5})"
   ]
  },
  {
   "cell_type": "code",
   "execution_count": 13,
   "metadata": {},
   "outputs": [
    {
     "name": "stderr",
     "output_type": "stream",
     "text": [
      "C:\\Users\\SUJITH\\anaconda3\\lib\\site-packages\\seaborn\\_decorators.py:36: FutureWarning: Pass the following variable as a keyword arg: x. From version 0.12, the only valid positional argument will be `data`, and passing other arguments without an explicit keyword will result in an error or misinterpretation.\n",
      "  warnings.warn(\n"
     ]
    },
    {
     "data": {
      "text/plain": [
       "<AxesSubplot:xlabel='gender', ylabel='count'>"
      ]
     },
     "execution_count": 13,
     "metadata": {},
     "output_type": "execute_result"
    },
    {
     "data": {
      "image/png": "[encoded data removed]",
      "text/plain": [
       "<Figure size 432x288 with 1 Axes>"
      ]
     },
     "metadata": {
      "needs_background": "light"
     },
     "output_type": "display_data"
    }
   ],
   "source": [
    "sns.countplot(df['gender'],label=\"Count\")"
   ]
  },
  {
   "cell_type": "code",
   "execution_count": 11,
   "metadata": {},
   "outputs": [
    {
     "data": {
      "text/plain": [
       "1       0\n",
       "2       0\n",
       "3       0\n",
       "4       0\n",
       "5       1\n",
       "       ..\n",
       "2944    2\n",
       "2947    0\n",
       "2949    0\n",
       "2950    0\n",
       "2951    0\n",
       "Name: race, Length: 2271, dtype: int64"
      ]
     },
     "execution_count": 11,
     "metadata": {},
     "output_type": "execute_result"
    }
   ],
   "source": [
    "df['race']"
   ]
  },
  {
   "cell_type": "code",
   "execution_count": 12,
   "metadata": {},
   "outputs": [],
   "source": [
    "import matplotlib.pyplot as plt # this is used for the plot the graph \n",
    "import seaborn as sns # used for plot interactive graph. I like it most for plot\n",
    "%matplotlib inline"
   ]
  },
  {
   "cell_type": "code",
   "execution_count": 14,
   "metadata": {},
   "outputs": [
    {
     "name": "stderr",
     "output_type": "stream",
     "text": [
      "C:\\Users\\SUJITH\\anaconda3\\lib\\site-packages\\seaborn\\_decorators.py:36: FutureWarning: Pass the following variable as a keyword arg: x. From version 0.12, the only valid positional argument will be `data`, and passing other arguments without an explicit keyword will result in an error or misinterpretation.\n",
      "  warnings.warn(\n"
     ]
    },
    {
     "data": {
      "text/plain": [
       "<AxesSubplot:xlabel='race', ylabel='count'>"
      ]
     },
     "execution_count": 14,
     "metadata": {},
     "output_type": "execute_result"
    },
    {
     "data": {
      "image/png": "[encoded data removed]",
      "text/plain": [
       "<Figure size 432x288 with 1 Axes>"
      ]
     },
     "metadata": {
      "needs_background": "light"
     },
     "output_type": "display_data"
    }
   ],
   "source": [
    "sns.countplot(df['race'],label=\"Count\")"
   ]
  },
  {
   "cell_type": "code",
   "execution_count": 15,
   "metadata": {},
   "outputs": [
    {
     "name": "stderr",
     "output_type": "stream",
     "text": [
      "C:\\Users\\SUJITH\\anaconda3\\lib\\site-packages\\seaborn\\_decorators.py:36: FutureWarning: Pass the following variable as a keyword arg: x. From version 0.12, the only valid positional argument will be `data`, and passing other arguments without an explicit keyword will result in an error or misinterpretation.\n",
      "  warnings.warn(\n"
     ]
    },
    {
     "data": {
      "text/plain": [
       "<AxesSubplot:xlabel='age_group', ylabel='count'>"
      ]
     },
     "execution_count": 15,
     "metadata": {},
     "output_type": "execute_result"
    },
    {
     "data": {
      "image/png": "[encoded data removed]",
      "text/plain": [
       "<Figure size 432x288 with 1 Axes>"
      ]
     },
     "metadata": {
      "needs_background": "light"
     },
     "output_type": "display_data"
    }
   ],
   "source": [
    "sns.countplot(df['age_group'],label=\"Count\")"
   ]
  },
  {
   "cell_type": "code",
   "execution_count": 16,
   "metadata": {},
   "outputs": [
    {
     "name": "stderr",
     "output_type": "stream",
     "text": [
      "<ipython-input-16-ca132bcf02e6>:1: SettingWithCopyWarning: \n",
      "A value is trying to be set on a copy of a slice from a DataFrame.\n",
      "Try using .loc[row_indexer,col_indexer] = value instead\n",
      "\n",
      "See the caveats in the documentation: https://pandas.pydata.org/pandas-docs/stable/user_guide/indexing.html#returning-a-view-versus-a-copy\n",
      "  df['age_group']=df['age_group'].map({'00-39':0,'40-44':1,'45-49':2,'50-54':3,'55-59':4,'60-64':5,'65-69':6,'70-74':7,'75-79':8,'80-84':9,'85-89':10,'90+':11})\n"
     ]
    }
   ],
   "source": [
    "df['age_group']=df['age_group'].map({'00-39':0,'40-44':1,'45-49':2,'50-54':3,'55-59':4,'60-64':5,'65-69':6,'70-74':7,'75-79':8,'80-84':9,'85-89':10,'90+':11})"
   ]
  },
  {
   "cell_type": "code",
   "execution_count": null,
   "metadata": {},
   "outputs": [],
   "source": []
  },
  {
   "cell_type": "code",
   "execution_count": 17,
   "metadata": {},
   "outputs": [
    {
     "data": {
      "text/html": [
       "<div>\n",
       "<style scoped>\n",
       "    .dataframe tbody tr th:only-of-type {\n",
       "        vertical-align: middle;\n",
       "    }\n",
       "\n",
       "    .dataframe tbody tr th {\n",
       "        vertical-align: top;\n",
       "    }\n",
       "\n",
       "    .dataframe thead th {\n",
       "        text-align: right;\n",
       "    }\n",
       "</style>\n",
       "<table border=\"1\" class=\"dataframe\">\n",
       "  <thead>\n",
       "    <tr style=\"text-align: right;\">\n",
       "      <th></th>\n",
       "      <th>tumor_cell_count</th>\n",
       "      <th>gender</th>\n",
       "      <th>age_group</th>\n",
       "      <th>race</th>\n",
       "      <th>year_of_diagnosis</th>\n",
       "      <th>morphology_code</th>\n",
       "      <th>year_of_death</th>\n",
       "      <th>smoke_units</th>\n",
       "      <th>area_code</th>\n",
       "      <th>alcohol_consume_units</th>\n",
       "      <th>...</th>\n",
       "      <th>symptom58</th>\n",
       "      <th>symptom59</th>\n",
       "      <th>symptom60</th>\n",
       "      <th>symptom61</th>\n",
       "      <th>symptom62</th>\n",
       "      <th>symptom63</th>\n",
       "      <th>symptom64</th>\n",
       "      <th>symptom65</th>\n",
       "      <th>symptom66</th>\n",
       "      <th>death_due_to_cancer</th>\n",
       "    </tr>\n",
       "  </thead>\n",
       "  <tbody>\n",
       "    <tr>\n",
       "      <th>count</th>\n",
       "      <td>2271.000000</td>\n",
       "      <td>2271.000000</td>\n",
       "      <td>2271.000000</td>\n",
       "      <td>2271.000000</td>\n",
       "      <td>2271.000000</td>\n",
       "      <td>2271.000000</td>\n",
       "      <td>2271.000000</td>\n",
       "      <td>2271.000000</td>\n",
       "      <td>2271.000000</td>\n",
       "      <td>2271.000000</td>\n",
       "      <td>...</td>\n",
       "      <td>2271.000000</td>\n",
       "      <td>2271.000000</td>\n",
       "      <td>2271.000000</td>\n",
       "      <td>2271.000000</td>\n",
       "      <td>2271.000000</td>\n",
       "      <td>2271.000000</td>\n",
       "      <td>2271.000000</td>\n",
       "      <td>2271.000000</td>\n",
       "      <td>2271.000000</td>\n",
       "      <td>2271.000000</td>\n",
       "    </tr>\n",
       "    <tr>\n",
       "      <th>mean</th>\n",
       "      <td>8.681198</td>\n",
       "      <td>0.581682</td>\n",
       "      <td>6.949802</td>\n",
       "      <td>0.300308</td>\n",
       "      <td>2010.834434</td>\n",
       "      <td>80907.492294</td>\n",
       "      <td>2016.742404</td>\n",
       "      <td>14.986350</td>\n",
       "      <td>5.229855</td>\n",
       "      <td>3.211801</td>\n",
       "      <td>...</td>\n",
       "      <td>0.024218</td>\n",
       "      <td>0.027301</td>\n",
       "      <td>0.025539</td>\n",
       "      <td>0.021136</td>\n",
       "      <td>0.021576</td>\n",
       "      <td>0.021576</td>\n",
       "      <td>0.021136</td>\n",
       "      <td>0.021136</td>\n",
       "      <td>0.024659</td>\n",
       "      <td>0.818582</td>\n",
       "    </tr>\n",
       "    <tr>\n",
       "      <th>std</th>\n",
       "      <td>25.769148</td>\n",
       "      <td>0.493392</td>\n",
       "      <td>2.419659</td>\n",
       "      <td>0.891761</td>\n",
       "      <td>1.375005</td>\n",
       "      <td>1331.981456</td>\n",
       "      <td>1.726741</td>\n",
       "      <td>7.818891</td>\n",
       "      <td>2.472226</td>\n",
       "      <td>2.364861</td>\n",
       "      <td>...</td>\n",
       "      <td>0.153760</td>\n",
       "      <td>0.162994</td>\n",
       "      <td>0.157791</td>\n",
       "      <td>0.143870</td>\n",
       "      <td>0.145328</td>\n",
       "      <td>0.145328</td>\n",
       "      <td>0.143870</td>\n",
       "      <td>0.143870</td>\n",
       "      <td>0.155117</td>\n",
       "      <td>0.385449</td>\n",
       "    </tr>\n",
       "    <tr>\n",
       "      <th>min</th>\n",
       "      <td>1.000000</td>\n",
       "      <td>0.000000</td>\n",
       "      <td>0.000000</td>\n",
       "      <td>0.000000</td>\n",
       "      <td>2009.000000</td>\n",
       "      <td>80003.000000</td>\n",
       "      <td>2013.000000</td>\n",
       "      <td>0.000000</td>\n",
       "      <td>1.000000</td>\n",
       "      <td>0.000000</td>\n",
       "      <td>...</td>\n",
       "      <td>0.000000</td>\n",
       "      <td>0.000000</td>\n",
       "      <td>0.000000</td>\n",
       "      <td>0.000000</td>\n",
       "      <td>0.000000</td>\n",
       "      <td>0.000000</td>\n",
       "      <td>0.000000</td>\n",
       "      <td>0.000000</td>\n",
       "      <td>0.000000</td>\n",
       "      <td>0.000000</td>\n",
       "    </tr>\n",
       "    <tr>\n",
       "      <th>25%</th>\n",
       "      <td>1.000000</td>\n",
       "      <td>0.000000</td>\n",
       "      <td>5.000000</td>\n",
       "      <td>0.000000</td>\n",
       "      <td>2010.000000</td>\n",
       "      <td>80103.000000</td>\n",
       "      <td>2015.000000</td>\n",
       "      <td>10.000000</td>\n",
       "      <td>3.000000</td>\n",
       "      <td>1.000000</td>\n",
       "      <td>...</td>\n",
       "      <td>0.000000</td>\n",
       "      <td>0.000000</td>\n",
       "      <td>0.000000</td>\n",
       "      <td>0.000000</td>\n",
       "      <td>0.000000</td>\n",
       "      <td>0.000000</td>\n",
       "      <td>0.000000</td>\n",
       "      <td>0.000000</td>\n",
       "      <td>0.000000</td>\n",
       "      <td>1.000000</td>\n",
       "    </tr>\n",
       "    <tr>\n",
       "      <th>50%</th>\n",
       "      <td>1.000000</td>\n",
       "      <td>1.000000</td>\n",
       "      <td>7.000000</td>\n",
       "      <td>0.000000</td>\n",
       "      <td>2011.000000</td>\n",
       "      <td>80463.000000</td>\n",
       "      <td>2017.000000</td>\n",
       "      <td>15.000000</td>\n",
       "      <td>5.000000</td>\n",
       "      <td>3.000000</td>\n",
       "      <td>...</td>\n",
       "      <td>0.000000</td>\n",
       "      <td>0.000000</td>\n",
       "      <td>0.000000</td>\n",
       "      <td>0.000000</td>\n",
       "      <td>0.000000</td>\n",
       "      <td>0.000000</td>\n",
       "      <td>0.000000</td>\n",
       "      <td>0.000000</td>\n",
       "      <td>0.000000</td>\n",
       "      <td>1.000000</td>\n",
       "    </tr>\n",
       "    <tr>\n",
       "      <th>75%</th>\n",
       "      <td>2.000000</td>\n",
       "      <td>1.000000</td>\n",
       "      <td>9.000000</td>\n",
       "      <td>0.000000</td>\n",
       "      <td>2012.000000</td>\n",
       "      <td>81403.000000</td>\n",
       "      <td>2018.000000</td>\n",
       "      <td>20.000000</td>\n",
       "      <td>8.000000</td>\n",
       "      <td>5.000000</td>\n",
       "      <td>...</td>\n",
       "      <td>0.000000</td>\n",
       "      <td>0.000000</td>\n",
       "      <td>0.000000</td>\n",
       "      <td>0.000000</td>\n",
       "      <td>0.000000</td>\n",
       "      <td>0.000000</td>\n",
       "      <td>0.000000</td>\n",
       "      <td>0.000000</td>\n",
       "      <td>0.000000</td>\n",
       "      <td>1.000000</td>\n",
       "    </tr>\n",
       "    <tr>\n",
       "      <th>max</th>\n",
       "      <td>323.000000</td>\n",
       "      <td>1.000000</td>\n",
       "      <td>11.000000</td>\n",
       "      <td>5.000000</td>\n",
       "      <td>2013.000000</td>\n",
       "      <td>89803.000000</td>\n",
       "      <td>2020.000000</td>\n",
       "      <td>34.000000</td>\n",
       "      <td>10.000000</td>\n",
       "      <td>8.000000</td>\n",
       "      <td>...</td>\n",
       "      <td>1.000000</td>\n",
       "      <td>1.000000</td>\n",
       "      <td>1.000000</td>\n",
       "      <td>1.000000</td>\n",
       "      <td>1.000000</td>\n",
       "      <td>1.000000</td>\n",
       "      <td>1.000000</td>\n",
       "      <td>1.000000</td>\n",
       "      <td>1.000000</td>\n",
       "      <td>1.000000</td>\n",
       "    </tr>\n",
       "  </tbody>\n",
       "</table>\n",
       "<p>8 rows × 68 columns</p>\n",
       "</div>"
      ],
      "text/plain": [
       "       tumor_cell_count       gender    age_group         race  \\\n",
       "count       2271.000000  2271.000000  2271.000000  2271.000000   \n",
       "mean           8.681198     0.581682     6.949802     0.300308   \n",
       "std           25.769148     0.493392     2.419659     0.891761   \n",
       "min            1.000000     0.000000     0.000000     0.000000   \n",
       "25%            1.000000     0.000000     5.000000     0.000000   \n",
       "50%            1.000000     1.000000     7.000000     0.000000   \n",
       "75%            2.000000     1.000000     9.000000     0.000000   \n",
       "max          323.000000     1.000000    11.000000     5.000000   \n",
       "\n",
       "       year_of_diagnosis  morphology_code  year_of_death  smoke_units  \\\n",
       "count        2271.000000      2271.000000    2271.000000  2271.000000   \n",
       "mean         2010.834434     80907.492294    2016.742404    14.986350   \n",
       "std             1.375005      1331.981456       1.726741     7.818891   \n",
       "min          2009.000000     80003.000000    2013.000000     0.000000   \n",
       "25%          2010.000000     80103.000000    2015.000000    10.000000   \n",
       "50%          2011.000000     80463.000000    2017.000000    15.000000   \n",
       "75%          2012.000000     81403.000000    2018.000000    20.000000   \n",
       "max          2013.000000     89803.000000    2020.000000    34.000000   \n",
       "\n",
       "         area_code  alcohol_consume_units  ...    symptom58    symptom59  \\\n",
       "count  2271.000000            2271.000000  ...  2271.000000  2271.000000   \n",
       "mean      5.229855               3.211801  ...     0.024218     0.027301   \n",
       "std       2.472226               2.364861  ...     0.153760     0.162994   \n",
       "min       1.000000               0.000000  ...     0.000000     0.000000   \n",
       "25%       3.000000               1.000000  ...     0.000000     0.000000   \n",
       "50%       5.000000               3.000000  ...     0.000000     0.000000   \n",
       "75%       8.000000               5.000000  ...     0.000000     0.000000   \n",
       "max      10.000000               8.000000  ...     1.000000     1.000000   \n",
       "\n",
       "         symptom60    symptom61    symptom62    symptom63    symptom64  \\\n",
       "count  2271.000000  2271.000000  2271.000000  2271.000000  2271.000000   \n",
       "mean      0.025539     0.021136     0.021576     0.021576     0.021136   \n",
       "std       0.157791     0.143870     0.145328     0.145328     0.143870   \n",
       "min       0.000000     0.000000     0.000000     0.000000     0.000000   \n",
       "25%       0.000000     0.000000     0.000000     0.000000     0.000000   \n",
       "50%       0.000000     0.000000     0.000000     0.000000     0.000000   \n",
       "75%       0.000000     0.000000     0.000000     0.000000     0.000000   \n",
       "max       1.000000     1.000000     1.000000     1.000000     1.000000   \n",
       "\n",
       "         symptom65    symptom66  death_due_to_cancer  \n",
       "count  2271.000000  2271.000000          2271.000000  \n",
       "mean      0.021136     0.024659             0.818582  \n",
       "std       0.143870     0.155117             0.385449  \n",
       "min       0.000000     0.000000             0.000000  \n",
       "25%       0.000000     0.000000             1.000000  \n",
       "50%       0.000000     0.000000             1.000000  \n",
       "75%       0.000000     0.000000             1.000000  \n",
       "max       1.000000     1.000000             1.000000  \n",
       "\n",
       "[8 rows x 68 columns]"
      ]
     },
     "execution_count": 17,
     "metadata": {},
     "output_type": "execute_result"
    }
   ],
   "source": [
    "df.describe()"
   ]
  },
  {
   "cell_type": "code",
   "execution_count": 18,
   "metadata": {},
   "outputs": [
    {
     "name": "stdout",
     "output_type": "stream",
     "text": [
      "<class 'pandas.core.frame.DataFrame'>\n",
      "Int64Index: 2271 entries, 1 to 2951\n",
      "Data columns (total 69 columns):\n",
      " #   Column                 Non-Null Count  Dtype  \n",
      "---  ------                 --------------  -----  \n",
      " 0   tumor_cell_count       2271 non-null   int64  \n",
      " 1   gender                 2271 non-null   int64  \n",
      " 2   age_group              2271 non-null   int64  \n",
      " 3   race                   2271 non-null   int64  \n",
      " 4   year_of_diagnosis      2271 non-null   int64  \n",
      " 5   morphology_code        2271 non-null   int64  \n",
      " 6   year_of_death          2271 non-null   float64\n",
      " 7   smoke_units            2271 non-null   int64  \n",
      " 8   area_code              2271 non-null   int64  \n",
      " 9   alcohol_consume_units  2271 non-null   int64  \n",
      " 10  symptoms               2271 non-null   object \n",
      " 11  symptom1               2271 non-null   float64\n",
      " 12  symptom2               2271 non-null   float64\n",
      " 13  symptom3               2271 non-null   float64\n",
      " 14  symptom4               2271 non-null   float64\n",
      " 15  symptom5               2271 non-null   float64\n",
      " 16  symptom6               2271 non-null   float64\n",
      " 17  symptom7               2271 non-null   float64\n",
      " 18  symptom8               2271 non-null   float64\n",
      " 19  symptom9               2271 non-null   float64\n",
      " 20  symptom10              2271 non-null   float64\n",
      " 21  symptom11              2271 non-null   float64\n",
      " 22  symptom12              2271 non-null   float64\n",
      " 23  symptom13              2271 non-null   float64\n",
      " 24  symptom14              2271 non-null   float64\n",
      " 25  symptom15              2271 non-null   float64\n",
      " 26  symptom16              2271 non-null   float64\n",
      " 27  symptom17              2271 non-null   float64\n",
      " 28  symptom18              2271 non-null   float64\n",
      " 29  symptom19              2271 non-null   float64\n",
      " 30  symptom20              2271 non-null   float64\n",
      " 31  symptom21              2271 non-null   float64\n",
      " 32  symptom22              2271 non-null   float64\n",
      " 33  symptom23              2271 non-null   float64\n",
      " 34  symptom24              2271 non-null   float64\n",
      " 35  symptom25              2271 non-null   float64\n",
      " 36  symptom26              2271 non-null   float64\n",
      " 37  symptom27              2271 non-null   float64\n",
      " 38  symptom28              2271 non-null   float64\n",
      " 39  symptom29              2271 non-null   float64\n",
      " 40  symptom30              2271 non-null   float64\n",
      " 41  symptom31              2271 non-null   float64\n",
      " 42  symptom32              2271 non-null   float64\n",
      " 43  symptom33              2271 non-null   float64\n",
      " 44  symptom34              2271 non-null   float64\n",
      " 45  symptom35              2271 non-null   float64\n",
      " 46  symptom36              2271 non-null   float64\n",
      " 47  symptom37              2271 non-null   float64\n",
      " 48  symptom38              2271 non-null   float64\n",
      " 49  symptom39              2271 non-null   float64\n",
      " 50  symptom40              2271 non-null   float64\n",
      " 51  symptom50              2271 non-null   float64\n",
      " 52  symptom51              2271 non-null   float64\n",
      " 53  symptom52              2271 non-null   float64\n",
      " 54  symptom53              2271 non-null   float64\n",
      " 55  symptom54              2271 non-null   float64\n",
      " 56  symptom55              2271 non-null   float64\n",
      " 57  symptom56              2271 non-null   float64\n",
      " 58  symptom57              2271 non-null   float64\n",
      " 59  symptom58              2271 non-null   float64\n",
      " 60  symptom59              2271 non-null   float64\n",
      " 61  symptom60              2271 non-null   float64\n",
      " 62  symptom61              2271 non-null   float64\n",
      " 63  symptom62              2271 non-null   float64\n",
      " 64  symptom63              2271 non-null   float64\n",
      " 65  symptom64              2271 non-null   float64\n",
      " 66  symptom65              2271 non-null   float64\n",
      " 67  symptom66              2271 non-null   float64\n",
      " 68  death_due_to_cancer    2271 non-null   int64  \n",
      "dtypes: float64(58), int64(10), object(1)\n",
      "memory usage: 1.3+ MB\n"
     ]
    }
   ],
   "source": [
    "df.info()"
   ]
  },
  {
   "cell_type": "code",
   "execution_count": 20,
   "metadata": {},
   "outputs": [
    {
     "name": "stderr",
     "output_type": "stream",
     "text": [
      "C:\\Users\\SUJITH\\anaconda3\\lib\\site-packages\\seaborn\\_decorators.py:36: FutureWarning: Pass the following variable as a keyword arg: x. From version 0.12, the only valid positional argument will be `data`, and passing other arguments without an explicit keyword will result in an error or misinterpretation.\n",
      "  warnings.warn(\n"
     ]
    },
    {
     "data": {
      "text/plain": [
       "<AxesSubplot:xlabel='symptoms', ylabel='count'>"
      ]
     },
     "execution_count": 20,
     "metadata": {},
     "output_type": "execute_result"
    },
    {
     "data": {
      "image/png": "[encoded data removed]",
      "text/plain": [
       "<Figure size 432x288 with 1 Axes>"
      ]
     },
     "metadata": {
      "needs_background": "light"
     },
     "output_type": "display_data"
    }
   ],
   "source": [
    "sns.countplot(df['symptoms'],label=\"Count\")"
   ]
  },
  {
   "cell_type": "code",
   "execution_count": 21,
   "metadata": {},
   "outputs": [
    {
     "data": {
      "text/plain": [
       "1                                Calm\n",
       "2                           Allergies\n",
       "3                          Gabapentin\n",
       "4       Obsessive-compulsive disorder\n",
       "5                              Nausea\n",
       "                    ...              \n",
       "2944                        Allergies\n",
       "2947               Polycystic Ovaries\n",
       "2949                Raynaud's disease\n",
       "2950                Sound sensitivity\n",
       "2951                            mango\n",
       "Name: symptoms, Length: 2271, dtype: object"
      ]
     },
     "execution_count": 21,
     "metadata": {},
     "output_type": "execute_result"
    }
   ],
   "source": [
    "df['symptoms']"
   ]
  },
  {
   "cell_type": "code",
   "execution_count": 22,
   "metadata": {},
   "outputs": [],
   "source": [
    "ss = pd.get_dummies(df.symptoms)"
   ]
  },
  {
   "cell_type": "code",
   "execution_count": null,
   "metadata": {},
   "outputs": [],
   "source": []
  },
  {
   "cell_type": "code",
   "execution_count": 24,
   "metadata": {},
   "outputs": [
    {
     "name": "stdout",
     "output_type": "stream",
     "text": [
      "<class 'pandas.core.frame.DataFrame'>\n",
      "Int64Index: 2271 entries, 1 to 2951\n",
      "Columns: 519 entries, ADHD to worried\n",
      "dtypes: uint8(519)\n",
      "memory usage: 1.2 MB\n"
     ]
    }
   ],
   "source": [
    "ss.info()"
   ]
  },
  {
   "cell_type": "code",
   "execution_count": 25,
   "metadata": {},
   "outputs": [],
   "source": [
    "from sklearn.preprocessing import StandardScaler\n",
    "standardScaler = StandardScaler()\n",
    "columns_to_scale = [ 'tumor_cell_count', 'gender', 'age_group', 'race',\n",
    "       'year_of_diagnosis', 'morphology_code', 'year_of_death', 'smoke_units',\n",
    "       'area_code', 'alcohol_consume_units', 'symptom1',\n",
    "       'symptom2', 'symptom3', 'symptom4', 'symptom5', 'symptom6', 'symptom7',\n",
    "       'symptom8', 'symptom9', 'symptom10', 'symptom11', 'symptom12',\n",
    "       'symptom13', 'symptom14', 'symptom15', 'symptom16', 'symptom17',\n",
    "       'symptom18', 'symptom19', 'symptom20', 'symptom21', 'symptom22',\n",
    "       'symptom23', 'symptom24', 'symptom25', 'symptom26', 'symptom27',\n",
    "       'symptom28', 'symptom29', 'symptom30', 'symptom31', 'symptom32',\n",
    "       'symptom33', 'symptom34', 'symptom35', 'symptom36', 'symptom37',\n",
    "       'symptom38', 'symptom39', 'symptom40', 'symptom50', 'symptom51',\n",
    "       'symptom52', 'symptom53', 'symptom54', 'symptom55', 'symptom56',\n",
    "       'symptom57', 'symptom58', 'symptom59', 'symptom60', 'symptom61',\n",
    "       'symptom62', 'symptom63', 'symptom64', 'symptom65', 'symptom66',\n",
    "       ]\n",
    "ss[columns_to_scale] = standardScaler.fit_transform(df[columns_to_scale])"
   ]
  },
  {
   "cell_type": "code",
   "execution_count": 26,
   "metadata": {},
   "outputs": [
    {
     "data": {
      "text/html": [
       "<div>\n",
       "<style scoped>\n",
       "    .dataframe tbody tr th:only-of-type {\n",
       "        vertical-align: middle;\n",
       "    }\n",
       "\n",
       "    .dataframe tbody tr th {\n",
       "        vertical-align: top;\n",
       "    }\n",
       "\n",
       "    .dataframe thead th {\n",
       "        text-align: right;\n",
       "    }\n",
       "</style>\n",
       "<table border=\"1\" class=\"dataframe\">\n",
       "  <thead>\n",
       "    <tr style=\"text-align: right;\">\n",
       "      <th></th>\n",
       "      <th>ADHD</th>\n",
       "      <th>Abdominal pain</th>\n",
       "      <th>Absence Seizure</th>\n",
       "      <th>Acute sinusitis</th>\n",
       "      <th>Adderall</th>\n",
       "      <th>Adderall XR</th>\n",
       "      <th>Addison's disease</th>\n",
       "      <th>Adenomyosis</th>\n",
       "      <th>Adult ADHD</th>\n",
       "      <th>Agitation</th>\n",
       "      <th>...</th>\n",
       "      <th>symptom57</th>\n",
       "      <th>symptom58</th>\n",
       "      <th>symptom59</th>\n",
       "      <th>symptom60</th>\n",
       "      <th>symptom61</th>\n",
       "      <th>symptom62</th>\n",
       "      <th>symptom63</th>\n",
       "      <th>symptom64</th>\n",
       "      <th>symptom65</th>\n",
       "      <th>symptom66</th>\n",
       "    </tr>\n",
       "  </thead>\n",
       "  <tbody>\n",
       "    <tr>\n",
       "      <th>1</th>\n",
       "      <td>0</td>\n",
       "      <td>0</td>\n",
       "      <td>0</td>\n",
       "      <td>0</td>\n",
       "      <td>0</td>\n",
       "      <td>0</td>\n",
       "      <td>0</td>\n",
       "      <td>0</td>\n",
       "      <td>0</td>\n",
       "      <td>0</td>\n",
       "      <td>...</td>\n",
       "      <td>-0.164733</td>\n",
       "      <td>-0.157542</td>\n",
       "      <td>-0.167532</td>\n",
       "      <td>-0.161891</td>\n",
       "      <td>-0.146944</td>\n",
       "      <td>-0.148500</td>\n",
       "      <td>-0.148500</td>\n",
       "      <td>-0.146944</td>\n",
       "      <td>-0.146944</td>\n",
       "      <td>-0.159004</td>\n",
       "    </tr>\n",
       "    <tr>\n",
       "      <th>2</th>\n",
       "      <td>0</td>\n",
       "      <td>0</td>\n",
       "      <td>0</td>\n",
       "      <td>0</td>\n",
       "      <td>0</td>\n",
       "      <td>0</td>\n",
       "      <td>0</td>\n",
       "      <td>0</td>\n",
       "      <td>0</td>\n",
       "      <td>0</td>\n",
       "      <td>...</td>\n",
       "      <td>-0.164733</td>\n",
       "      <td>-0.157542</td>\n",
       "      <td>-0.167532</td>\n",
       "      <td>-0.161891</td>\n",
       "      <td>-0.146944</td>\n",
       "      <td>-0.148500</td>\n",
       "      <td>-0.148500</td>\n",
       "      <td>-0.146944</td>\n",
       "      <td>-0.146944</td>\n",
       "      <td>-0.159004</td>\n",
       "    </tr>\n",
       "    <tr>\n",
       "      <th>3</th>\n",
       "      <td>0</td>\n",
       "      <td>0</td>\n",
       "      <td>0</td>\n",
       "      <td>0</td>\n",
       "      <td>0</td>\n",
       "      <td>0</td>\n",
       "      <td>0</td>\n",
       "      <td>0</td>\n",
       "      <td>0</td>\n",
       "      <td>0</td>\n",
       "      <td>...</td>\n",
       "      <td>-0.164733</td>\n",
       "      <td>-0.157542</td>\n",
       "      <td>-0.167532</td>\n",
       "      <td>-0.161891</td>\n",
       "      <td>-0.146944</td>\n",
       "      <td>-0.148500</td>\n",
       "      <td>-0.148500</td>\n",
       "      <td>-0.146944</td>\n",
       "      <td>-0.146944</td>\n",
       "      <td>-0.159004</td>\n",
       "    </tr>\n",
       "    <tr>\n",
       "      <th>4</th>\n",
       "      <td>0</td>\n",
       "      <td>0</td>\n",
       "      <td>0</td>\n",
       "      <td>0</td>\n",
       "      <td>0</td>\n",
       "      <td>0</td>\n",
       "      <td>0</td>\n",
       "      <td>0</td>\n",
       "      <td>0</td>\n",
       "      <td>0</td>\n",
       "      <td>...</td>\n",
       "      <td>-0.164733</td>\n",
       "      <td>-0.157542</td>\n",
       "      <td>-0.167532</td>\n",
       "      <td>-0.161891</td>\n",
       "      <td>-0.146944</td>\n",
       "      <td>-0.148500</td>\n",
       "      <td>-0.148500</td>\n",
       "      <td>-0.146944</td>\n",
       "      <td>-0.146944</td>\n",
       "      <td>-0.159004</td>\n",
       "    </tr>\n",
       "    <tr>\n",
       "      <th>5</th>\n",
       "      <td>0</td>\n",
       "      <td>0</td>\n",
       "      <td>0</td>\n",
       "      <td>0</td>\n",
       "      <td>0</td>\n",
       "      <td>0</td>\n",
       "      <td>0</td>\n",
       "      <td>0</td>\n",
       "      <td>0</td>\n",
       "      <td>0</td>\n",
       "      <td>...</td>\n",
       "      <td>-0.164733</td>\n",
       "      <td>-0.157542</td>\n",
       "      <td>-0.167532</td>\n",
       "      <td>-0.161891</td>\n",
       "      <td>-0.146944</td>\n",
       "      <td>6.734014</td>\n",
       "      <td>6.734014</td>\n",
       "      <td>-0.146944</td>\n",
       "      <td>-0.146944</td>\n",
       "      <td>-0.159004</td>\n",
       "    </tr>\n",
       "    <tr>\n",
       "      <th>...</th>\n",
       "      <td>...</td>\n",
       "      <td>...</td>\n",
       "      <td>...</td>\n",
       "      <td>...</td>\n",
       "      <td>...</td>\n",
       "      <td>...</td>\n",
       "      <td>...</td>\n",
       "      <td>...</td>\n",
       "      <td>...</td>\n",
       "      <td>...</td>\n",
       "      <td>...</td>\n",
       "      <td>...</td>\n",
       "      <td>...</td>\n",
       "      <td>...</td>\n",
       "      <td>...</td>\n",
       "      <td>...</td>\n",
       "      <td>...</td>\n",
       "      <td>...</td>\n",
       "      <td>...</td>\n",
       "      <td>...</td>\n",
       "      <td>...</td>\n",
       "    </tr>\n",
       "    <tr>\n",
       "      <th>2944</th>\n",
       "      <td>0</td>\n",
       "      <td>0</td>\n",
       "      <td>0</td>\n",
       "      <td>0</td>\n",
       "      <td>0</td>\n",
       "      <td>0</td>\n",
       "      <td>0</td>\n",
       "      <td>0</td>\n",
       "      <td>0</td>\n",
       "      <td>0</td>\n",
       "      <td>...</td>\n",
       "      <td>-0.164733</td>\n",
       "      <td>-0.157542</td>\n",
       "      <td>-0.167532</td>\n",
       "      <td>-0.161891</td>\n",
       "      <td>-0.146944</td>\n",
       "      <td>-0.148500</td>\n",
       "      <td>-0.148500</td>\n",
       "      <td>-0.146944</td>\n",
       "      <td>-0.146944</td>\n",
       "      <td>-0.159004</td>\n",
       "    </tr>\n",
       "    <tr>\n",
       "      <th>2947</th>\n",
       "      <td>0</td>\n",
       "      <td>0</td>\n",
       "      <td>0</td>\n",
       "      <td>0</td>\n",
       "      <td>0</td>\n",
       "      <td>0</td>\n",
       "      <td>0</td>\n",
       "      <td>0</td>\n",
       "      <td>0</td>\n",
       "      <td>0</td>\n",
       "      <td>...</td>\n",
       "      <td>-0.164733</td>\n",
       "      <td>-0.157542</td>\n",
       "      <td>-0.167532</td>\n",
       "      <td>6.176987</td>\n",
       "      <td>-0.146944</td>\n",
       "      <td>-0.148500</td>\n",
       "      <td>-0.148500</td>\n",
       "      <td>-0.146944</td>\n",
       "      <td>-0.146944</td>\n",
       "      <td>-0.159004</td>\n",
       "    </tr>\n",
       "    <tr>\n",
       "      <th>2949</th>\n",
       "      <td>0</td>\n",
       "      <td>0</td>\n",
       "      <td>0</td>\n",
       "      <td>0</td>\n",
       "      <td>0</td>\n",
       "      <td>0</td>\n",
       "      <td>0</td>\n",
       "      <td>0</td>\n",
       "      <td>0</td>\n",
       "      <td>0</td>\n",
       "      <td>...</td>\n",
       "      <td>-0.164733</td>\n",
       "      <td>-0.157542</td>\n",
       "      <td>-0.167532</td>\n",
       "      <td>-0.161891</td>\n",
       "      <td>-0.146944</td>\n",
       "      <td>-0.148500</td>\n",
       "      <td>-0.148500</td>\n",
       "      <td>-0.146944</td>\n",
       "      <td>-0.146944</td>\n",
       "      <td>-0.159004</td>\n",
       "    </tr>\n",
       "    <tr>\n",
       "      <th>2950</th>\n",
       "      <td>0</td>\n",
       "      <td>0</td>\n",
       "      <td>0</td>\n",
       "      <td>0</td>\n",
       "      <td>0</td>\n",
       "      <td>0</td>\n",
       "      <td>0</td>\n",
       "      <td>0</td>\n",
       "      <td>0</td>\n",
       "      <td>0</td>\n",
       "      <td>...</td>\n",
       "      <td>-0.164733</td>\n",
       "      <td>-0.157542</td>\n",
       "      <td>-0.167532</td>\n",
       "      <td>-0.161891</td>\n",
       "      <td>-0.146944</td>\n",
       "      <td>-0.148500</td>\n",
       "      <td>-0.148500</td>\n",
       "      <td>-0.146944</td>\n",
       "      <td>-0.146944</td>\n",
       "      <td>-0.159004</td>\n",
       "    </tr>\n",
       "    <tr>\n",
       "      <th>2951</th>\n",
       "      <td>0</td>\n",
       "      <td>0</td>\n",
       "      <td>0</td>\n",
       "      <td>0</td>\n",
       "      <td>0</td>\n",
       "      <td>0</td>\n",
       "      <td>0</td>\n",
       "      <td>0</td>\n",
       "      <td>0</td>\n",
       "      <td>0</td>\n",
       "      <td>...</td>\n",
       "      <td>-0.164733</td>\n",
       "      <td>-0.157542</td>\n",
       "      <td>5.969006</td>\n",
       "      <td>-0.161891</td>\n",
       "      <td>-0.146944</td>\n",
       "      <td>-0.148500</td>\n",
       "      <td>-0.148500</td>\n",
       "      <td>-0.146944</td>\n",
       "      <td>-0.146944</td>\n",
       "      <td>-0.159004</td>\n",
       "    </tr>\n",
       "  </tbody>\n",
       "</table>\n",
       "<p>2271 rows × 586 columns</p>\n",
       "</div>"
      ],
      "text/plain": [
       "      ADHD  Abdominal pain  Absence Seizure  Acute sinusitis  Adderall  \\\n",
       "1        0               0                0                0         0   \n",
       "2        0               0                0                0         0   \n",
       "3        0               0                0                0         0   \n",
       "4        0               0                0                0         0   \n",
       "5        0               0                0                0         0   \n",
       "...    ...             ...              ...              ...       ...   \n",
       "2944     0               0                0                0         0   \n",
       "2947     0               0                0                0         0   \n",
       "2949     0               0                0                0         0   \n",
       "2950     0               0                0                0         0   \n",
       "2951     0               0                0                0         0   \n",
       "\n",
       "      Adderall XR  Addison's disease  Adenomyosis  Adult ADHD  Agitation  ...  \\\n",
       "1               0                  0            0           0          0  ...   \n",
       "2               0                  0            0           0          0  ...   \n",
       "3               0                  0            0           0          0  ...   \n",
       "4               0                  0            0           0          0  ...   \n",
       "5               0                  0            0           0          0  ...   \n",
       "...           ...                ...          ...         ...        ...  ...   \n",
       "2944            0                  0            0           0          0  ...   \n",
       "2947            0                  0            0           0          0  ...   \n",
       "2949            0                  0            0           0          0  ...   \n",
       "2950            0                  0            0           0          0  ...   \n",
       "2951            0                  0            0           0          0  ...   \n",
       "\n",
       "      symptom57  symptom58  symptom59  symptom60  symptom61  symptom62  \\\n",
       "1     -0.164733  -0.157542  -0.167532  -0.161891  -0.146944  -0.148500   \n",
       "2     -0.164733  -0.157542  -0.167532  -0.161891  -0.146944  -0.148500   \n",
       "3     -0.164733  -0.157542  -0.167532  -0.161891  -0.146944  -0.148500   \n",
       "4     -0.164733  -0.157542  -0.167532  -0.161891  -0.146944  -0.148500   \n",
       "5     -0.164733  -0.157542  -0.167532  -0.161891  -0.146944   6.734014   \n",
       "...         ...        ...        ...        ...        ...        ...   \n",
       "2944  -0.164733  -0.157542  -0.167532  -0.161891  -0.146944  -0.148500   \n",
       "2947  -0.164733  -0.157542  -0.167532   6.176987  -0.146944  -0.148500   \n",
       "2949  -0.164733  -0.157542  -0.167532  -0.161891  -0.146944  -0.148500   \n",
       "2950  -0.164733  -0.157542  -0.167532  -0.161891  -0.146944  -0.148500   \n",
       "2951  -0.164733  -0.157542   5.969006  -0.161891  -0.146944  -0.148500   \n",
       "\n",
       "      symptom63  symptom64  symptom65  symptom66  \n",
       "1     -0.148500  -0.146944  -0.146944  -0.159004  \n",
       "2     -0.148500  -0.146944  -0.146944  -0.159004  \n",
       "3     -0.148500  -0.146944  -0.146944  -0.159004  \n",
       "4     -0.148500  -0.146944  -0.146944  -0.159004  \n",
       "5      6.734014  -0.146944  -0.146944  -0.159004  \n",
       "...         ...        ...        ...        ...  \n",
       "2944  -0.148500  -0.146944  -0.146944  -0.159004  \n",
       "2947  -0.148500  -0.146944  -0.146944  -0.159004  \n",
       "2949  -0.148500  -0.146944  -0.146944  -0.159004  \n",
       "2950  -0.148500  -0.146944  -0.146944  -0.159004  \n",
       "2951  -0.148500  -0.146944  -0.146944  -0.159004  \n",
       "\n",
       "[2271 rows x 586 columns]"
      ]
     },
     "execution_count": 26,
     "metadata": {},
     "output_type": "execute_result"
    }
   ],
   "source": [
    "ss"
   ]
  },
  {
   "cell_type": "code",
   "execution_count": 27,
   "metadata": {},
   "outputs": [],
   "source": [
    "y = df['death_due_to_cancer']\n",
    "x = ss"
   ]
  },
  {
   "cell_type": "code",
   "execution_count": 104,
   "metadata": {},
   "outputs": [],
   "source": [
    "from sklearn.neighbors import KNeighborsClassifier\n",
    "from sklearn.ensemble import RandomForestClassifier"
   ]
  },
  {
   "cell_type": "code",
   "execution_count": 105,
   "metadata": {},
   "outputs": [],
   "source": [
    "from sklearn.model_selection import cross_val_score\n",
    "knn_scores = []\n",
    "for k in range(1,21):\n",
    "    knn_classifier = KNeighborsClassifier(n_neighbors = k)\n",
    "    score=cross_val_score(knn_classifier,x,y,cv=10)\n",
    "    knn_scores.append(score.mean())"
   ]
  },
  {
   "cell_type": "code",
   "execution_count": 106,
   "metadata": {},
   "outputs": [
    {
     "data": {
      "text/plain": [
       "Text(0.5, 1.0, 'K Neighbors Classifier scores for different K values')"
      ]
     },
     "execution_count": 106,
     "metadata": {},
     "output_type": "execute_result"
    },
    {
     "data": {
      "image/png": "[encoded data removed]",
      "text/plain": [
       "<Figure size 432x288 with 1 Axes>"
      ]
     },
     "metadata": {
      "needs_background": "light"
     },
     "output_type": "display_data"
    }
   ],
   "source": [
    "plt.plot([k for k in range(1, 21)], knn_scores, color = 'red')\n",
    "for i in range(1,21):\n",
    "    plt.text(i, knn_scores[i-1], (i, knn_scores[i-1]))\n",
    "plt.xticks([i for i in range(1, 21)])\n",
    "plt.xlabel('Number of Neighbors (K)')\n",
    "plt.ylabel('Scores')\n",
    "plt.title('K Neighbors Classifier scores for different K values')"
   ]
  },
  {
   "cell_type": "code",
   "execution_count": 107,
   "metadata": {},
   "outputs": [],
   "source": [
    "knn_classifier = KNeighborsClassifier(n_neighbors = 12)\n",
    "score=cross_val_score(knn_classifier,x,y,cv=10)"
   ]
  },
  {
   "cell_type": "code",
   "execution_count": 108,
   "metadata": {},
   "outputs": [
    {
     "data": {
      "text/plain": [
       "0.8106596336656618"
      ]
     },
     "execution_count": 108,
     "metadata": {},
     "output_type": "execute_result"
    }
   ],
   "source": [
    "score.mean()"
   ]
  },
  {
   "cell_type": "code",
   "execution_count": 109,
   "metadata": {},
   "outputs": [],
   "source": [
    "from sklearn.model_selection import train_test_split"
   ]
  },
  {
   "cell_type": "code",
   "execution_count": 110,
   "metadata": {},
   "outputs": [],
   "source": [
    "x_train, x_test, y_train, y_test = train_test_split(x, y, test_size=0.2, random_state=4)"
   ]
  },
  {
   "cell_type": "code",
   "execution_count": 111,
   "metadata": {},
   "outputs": [
    {
     "data": {
      "text/plain": [
       "KNeighborsClassifier()"
      ]
     },
     "execution_count": 111,
     "metadata": {},
     "output_type": "execute_result"
    }
   ],
   "source": [
    "knn = KNeighborsClassifier()\n",
    "knn.fit(x_train, y_train)"
   ]
  },
  {
   "cell_type": "code",
   "execution_count": null,
   "metadata": {},
   "outputs": [],
   "source": []
  },
  {
   "cell_type": "code",
   "execution_count": 113,
   "metadata": {},
   "outputs": [],
   "source": [
    "y_pred = knn.predict(x_test)"
   ]
  },
  {
   "cell_type": "code",
   "execution_count": 114,
   "metadata": {},
   "outputs": [
    {
     "name": "stdout",
     "output_type": "stream",
     "text": [
      "              precision    recall  f1-score   support\n",
      "\n",
      "           0       0.26      0.08      0.12        78\n",
      "           1       0.83      0.95      0.89       377\n",
      "\n",
      "    accuracy                           0.80       455\n",
      "   macro avg       0.55      0.52      0.50       455\n",
      "weighted avg       0.74      0.80      0.76       455\n",
      "\n"
     ]
    }
   ],
   "source": [
    "print(classification_report(y_test, y_pred))"
   ]
  },
  {
   "cell_type": "code",
   "execution_count": null,
   "metadata": {},
   "outputs": [],
   "source": []
  },
  {
   "cell_type": "code",
   "execution_count": null,
   "metadata": {},
   "outputs": [],
   "source": []
  },
  {
   "cell_type": "code",
   "execution_count": null,
   "metadata": {},
   "outputs": [],
   "source": []
  },
  {
   "cell_type": "code",
   "execution_count": null,
   "metadata": {},
   "outputs": [],
   "source": [
    "#checking VarianceThreshold"
   ]
  },
  {
   "cell_type": "code",
   "execution_count": 52,
   "metadata": {},
   "outputs": [
    {
     "data": {
      "text/plain": [
       "VarianceThreshold(threshold=0)"
      ]
     },
     "execution_count": 52,
     "metadata": {},
     "output_type": "execute_result"
    }
   ],
   "source": [
    "from sklearn.feature_selection import VarianceThreshold\n",
    "var_thres=VarianceThreshold(threshold=0)\n",
    "var_thres.fit(df[['symptom1',\n",
    "       'symptom2', 'symptom3', 'symptom4', 'symptom5', 'symptom6', 'symptom7',\n",
    "       'symptom8', 'symptom9', 'symptom10', 'symptom11', 'symptom12',\n",
    "       'symptom13', 'symptom14', 'symptom15', 'symptom16', 'symptom17',\n",
    "       'symptom18', 'symptom19', 'symptom20', 'symptom21', 'symptom22',\n",
    "       'symptom23', 'symptom24', 'symptom25', 'symptom26', 'symptom27',\n",
    "       'symptom28', 'symptom29', 'symptom30', 'symptom31', 'symptom32',\n",
    "       'symptom33', 'symptom34', 'symptom35', 'symptom36', 'symptom37',\n",
    "       'symptom38', 'symptom39', 'symptom40', 'symptom50', 'symptom51',\n",
    "       'symptom52', 'symptom53', 'symptom54', 'symptom55', 'symptom56',\n",
    "       'symptom57', 'symptom58', 'symptom59', 'symptom60', 'symptom61',\n",
    "       'symptom62', 'symptom63', 'symptom64', 'symptom65', 'symptom66']])"
   ]
  },
  {
   "cell_type": "code",
   "execution_count": 53,
   "metadata": {},
   "outputs": [
    {
     "data": {
      "text/plain": [
       "array([ True,  True,  True,  True,  True,  True,  True,  True,  True,\n",
       "        True,  True,  True,  True,  True,  True,  True,  True,  True,\n",
       "        True,  True,  True,  True,  True,  True,  True,  True,  True,\n",
       "        True,  True,  True,  True,  True,  True,  True,  True,  True,\n",
       "        True,  True,  True,  True,  True,  True,  True,  True,  True,\n",
       "        True,  True,  True,  True,  True,  True,  True,  True,  True,\n",
       "        True,  True,  True])"
      ]
     },
     "execution_count": 53,
     "metadata": {},
     "output_type": "execute_result"
    }
   ],
   "source": [
    "var_thres.get_support()\n"
   ]
  },
  {
   "cell_type": "code",
   "execution_count": null,
   "metadata": {},
   "outputs": [],
   "source": []
  },
  {
   "cell_type": "code",
   "execution_count": 98,
   "metadata": {},
   "outputs": [],
   "source": [
    "\n",
    "\n",
    "####using RandomForestClassifier\n",
    "\n",
    "\n",
    "\n"
   ]
  },
  {
   "cell_type": "code",
   "execution_count": 99,
   "metadata": {},
   "outputs": [],
   "source": [
    "model=RandomForestClassifier(n_estimators=100)"
   ]
  },
  {
   "cell_type": "code",
   "execution_count": 100,
   "metadata": {},
   "outputs": [
    {
     "data": {
      "text/plain": [
       "RandomForestClassifier()"
      ]
     },
     "execution_count": 100,
     "metadata": {},
     "output_type": "execute_result"
    }
   ],
   "source": [
    "model.fit(x_train,y_train)"
   ]
  },
  {
   "cell_type": "code",
   "execution_count": 101,
   "metadata": {},
   "outputs": [],
   "source": [
    "prediction=model.predict(x_test)"
   ]
  },
  {
   "cell_type": "code",
   "execution_count": 102,
   "metadata": {},
   "outputs": [
    {
     "data": {
      "text/plain": [
       "0.8197802197802198"
      ]
     },
     "execution_count": 102,
     "metadata": {},
     "output_type": "execute_result"
    }
   ],
   "source": [
    "metrics.accuracy_score(prediction,y_test)"
   ]
  },
  {
   "cell_type": "code",
   "execution_count": 103,
   "metadata": {},
   "outputs": [
    {
     "name": "stdout",
     "output_type": "stream",
     "text": [
      "              precision    recall  f1-score   support\n",
      "\n",
      "           0       0.30      0.04      0.07        78\n",
      "           1       0.83      0.98      0.90       377\n",
      "\n",
      "    accuracy                           0.82       455\n",
      "   macro avg       0.57      0.51      0.48       455\n",
      "weighted avg       0.74      0.82      0.76       455\n",
      "\n"
     ]
    }
   ],
   "source": [
    "print(classification_report(y_test, prediction))"
   ]
  },
  {
   "cell_type": "code",
   "execution_count": null,
   "metadata": {},
   "outputs": [],
   "source": []
  },
  {
   "cell_type": "code",
   "execution_count": null,
   "metadata": {},
   "outputs": [],
   "source": []
  }
 ],
 "metadata": {
  "kernelspec": {
   "display_name": "Python 3",
   "language": "python",
   "name": "python3"
  },
  "language_info": {
   "codemirror_mode": {
    "name": "ipython",
    "version": 3
   },
   "file_extension": ".py",
   "mimetype": "text/x-python",
   "name": "python",
   "nbconvert_exporter": "python",
   "pygments_lexer": "ipython3",
   "version": "3.8.8"
  }
 },
 "nbformat": 4,
 "nbformat_minor": 2
}
